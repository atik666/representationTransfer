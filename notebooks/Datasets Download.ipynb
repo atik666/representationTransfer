{
 "cells": [
  {
   "cell_type": "markdown",
   "id": "7b621c7a-ea83-4279-9e6c-a72bd39a570a",
   "metadata": {},
   "source": [
    "# Download Datasets"
   ]
  },
  {
   "cell_type": "markdown",
   "id": "2f312a60-9e4d-4f40-8355-6ccadab21298",
   "metadata": {},
   "source": [
    "## MiniImagenet"
   ]
  },
  {
   "cell_type": "code",
   "execution_count": null,
   "id": "94c4a533-5dd9-45d9-ab71-995e4fdc57c6",
   "metadata": {},
   "outputs": [],
   "source": [
    "import gdown"
   ]
  },
  {
   "cell_type": "code",
   "execution_count": null,
   "id": "1cb6e075-a2fd-40ed-b552-2d1fa21a4519",
   "metadata": {
    "scrolled": true,
    "tags": []
   },
   "outputs": [],
   "source": [
    "# Your shared file's url. Get this from the shareable link.\n",
    "url = 'https://drive.google.com/u/0/uc?id=19a_6Krjjv3XCQwiZGqFtTdGb4KHMFl21&export=download'\n",
    "\n",
    "# The path you want to save the file to.\n",
    "output_path = 'representationTransfer/miniImagenet/dataset/miniimagenet.zip' \n",
    "\n",
    "# Using gdown to download the file.\n",
    "gdown.download(url, output_path, quiet=False)\n",
    "\n",
    "!unzip representationTransfer/miniImagenet/dataset/miniimagenet.zip"
   ]
  },
  {
   "cell_type": "markdown",
   "id": "dc43970b-dc71-40a8-9e43-0e01761a84b6",
   "metadata": {},
   "source": [
    "## OmniGlot"
   ]
  },
  {
   "cell_type": "code",
   "execution_count": null,
   "id": "9955f0dc-d05a-4ac4-abb2-d19fdeb9e9c5",
   "metadata": {},
   "outputs": [],
   "source": [
    "# Your shared file's url. Get this from the shareable link.\n",
    "url = 'https://drive.google.com/u/0/uc?id=1A_A8Huh4os6zzot8GMD5vBSqHc3wX9Fk&export=download'\n",
    "\n",
    "# The path you want to save the file to.\n",
    "output_path = 'representationTransfer/Omniglot/dataset/omniglot.npy' \n",
    "\n",
    "# Using gdown to download the file.\n",
    "gdown.download(url, output_path, quiet=False)"
   ]
  },
  {
   "cell_type": "code",
   "execution_count": null,
   "id": "99c877d6-0f37-4c0e-90dd-b6063e55ce5d",
   "metadata": {},
   "outputs": [],
   "source": []
  }
 ],
 "metadata": {
  "environment": {
   "kernel": "python3",
   "name": "pytorch-gpu.1-13.m108",
   "type": "gcloud",
   "uri": "gcr.io/deeplearning-platform-release/pytorch-gpu.1-13:m108"
  },
  "kernelspec": {
   "display_name": "Python 3 (ipykernel)",
   "language": "python",
   "name": "python3"
  },
  "language_info": {
   "codemirror_mode": {
    "name": "ipython",
    "version": 3
   },
   "file_extension": ".py",
   "mimetype": "text/x-python",
   "name": "python",
   "nbconvert_exporter": "python",
   "pygments_lexer": "ipython3",
   "version": "3.10.10"
  }
 },
 "nbformat": 4,
 "nbformat_minor": 5
}
